{
  "nbformat": 4,
  "nbformat_minor": 0,
  "metadata": {
    "colab": {
      "provenance": [],
      "authorship_tag": "ABX9TyPKOe7SlMLd1BvJT+qnpkmj",
      "include_colab_link": true
    },
    "kernelspec": {
      "name": "python3",
      "display_name": "Python 3"
    },
    "language_info": {
      "name": "python"
    }
  },
  "cells": [
    {
      "cell_type": "markdown",
      "metadata": {
        "id": "view-in-github",
        "colab_type": "text"
      },
      "source": [
        "<a href=\"https://colab.research.google.com/github/Renzou1/treinamento-h2ia/blob/main/00_preweek_python.ipynb\" target=\"_parent\"><img src=\"https://colab.research.google.com/assets/colab-badge.svg\" alt=\"Open In Colab\"/></a>"
      ]
    },
    {
      "cell_type": "markdown",
      "source": [
        "Testes com Numpy."
      ],
      "metadata": {
        "id": "1EnmUfYH44ma"
      }
    },
    {
      "cell_type": "code",
      "source": [
        "import numpy as np"
      ],
      "metadata": {
        "id": "ViLTg0aU49Bg"
      },
      "execution_count": 6,
      "outputs": []
    },
    {
      "cell_type": "code",
      "source": [
        "a = np.array([[2,3,4], [3,4,5]])\n",
        "print(a)\n",
        "print(\"a[1,2] =\", a[1, 2])\n",
        "print(a[1, :])\n",
        "print(a[:])"
      ],
      "metadata": {
        "colab": {
          "base_uri": "https://localhost:8080/"
        },
        "id": "vKK_4LIM5GFg",
        "outputId": "77c967a5-9a71-4584-be58-bdb7dad22093"
      },
      "execution_count": null,
      "outputs": [
        {
          "output_type": "stream",
          "name": "stdout",
          "text": [
            "[[2 3 4]\n",
            " [3 4 5]]\n",
            "a[1,2] = 5\n",
            "[3 4 5]\n",
            "[[2 3 4]\n",
            " [3 4 5]]\n"
          ]
        }
      ]
    },
    {
      "cell_type": "code",
      "source": [
        "b = range(10)\n",
        "c = np.array(b)\n",
        "#array slicing\n",
        "print(c[2:8])\n",
        "print(c[2:-1])"
      ],
      "metadata": {
        "colab": {
          "base_uri": "https://localhost:8080/"
        },
        "id": "u7-vPwB35_eL",
        "outputId": "1d86c26f-289e-49cd-98a5-6198a569eee7"
      },
      "execution_count": null,
      "outputs": [
        {
          "output_type": "stream",
          "name": "stdout",
          "text": [
            "[2 3 4 5 6 7]\n",
            "[2 3 4 5 6 7 8]\n"
          ]
        }
      ]
    },
    {
      "cell_type": "code",
      "source": [
        "print(np.full((3,4), 7))"
      ],
      "metadata": {
        "colab": {
          "base_uri": "https://localhost:8080/"
        },
        "id": "03NgA7Xb6T6R",
        "outputId": "abd11a24-04be-47ad-e8b4-f78bf4e07e66"
      },
      "execution_count": null,
      "outputs": [
        {
          "output_type": "stream",
          "name": "stdout",
          "text": [
            "[[7 7 7 7]\n",
            " [7 7 7 7]\n",
            " [7 7 7 7]]\n"
          ]
        }
      ]
    },
    {
      "cell_type": "markdown",
      "source": [
        "rank = dimensions"
      ],
      "metadata": {
        "id": "lE8AK8jy7vl5"
      }
    },
    {
      "cell_type": "code",
      "source": [
        "k = np.array([[1,2,3,4], [5,6,7,8], [9,10,11,12]])\n",
        "print(k)"
      ],
      "metadata": {
        "colab": {
          "base_uri": "https://localhost:8080/"
        },
        "id": "W-bv22qr8dxj",
        "outputId": "5e136a0f-18f2-4b87-e2d6-7c38ebb618bd"
      },
      "execution_count": null,
      "outputs": [
        {
          "output_type": "stream",
          "name": "stdout",
          "text": [
            "[[ 1  2  3  4]\n",
            " [ 5  6  7  8]\n",
            " [ 9 10 11 12]]\n"
          ]
        }
      ]
    },
    {
      "cell_type": "code",
      "source": [
        "row_r1 = k[1, :]    # Rank 1 view of the second row of k\n",
        "row_r2 = k[1:2, :]  # Rank 2 view of the second row of k// louco\n",
        "#row_r3 = k[[1], :]  # Rank 2 view of the second row of k\n",
        "row_r4 = k[1:3, :]  # Rank 2 de duas rows\n",
        "print(row_r1, row_r1.shape)\n",
        "print(row_r2, row_r2.shape)\n",
        "#print(row_r3, row_r3.shape)\n",
        "print(row_r4, row_r4.shape)"
      ],
      "metadata": {
        "colab": {
          "base_uri": "https://localhost:8080/"
        },
        "id": "zp4exMvr8e73",
        "outputId": "34b6ed8a-c02a-4fd3-f510-2edf5f4edf88"
      },
      "execution_count": null,
      "outputs": [
        {
          "output_type": "stream",
          "name": "stdout",
          "text": [
            "[5 6 7 8] (4,)\n",
            "[[5 6 7 8]] (1, 4)\n",
            "[[ 5  6  7  8]\n",
            " [ 9 10 11 12]] (2, 4)\n"
          ]
        }
      ]
    },
    {
      "cell_type": "code",
      "source": [
        "print(k[[0, 1, 2],[2, 1, 0]]) # 0,2; 1,1; 2,0 # confuso"
      ],
      "metadata": {
        "colab": {
          "base_uri": "https://localhost:8080/"
        },
        "id": "xd9OdN4c9twz",
        "outputId": "17fa5f4b-c7ce-4225-e865-6cc494cb05f4"
      },
      "execution_count": null,
      "outputs": [
        {
          "output_type": "stream",
          "name": "stdout",
          "text": [
            "[3 6 9]\n"
          ]
        }
      ]
    },
    {
      "cell_type": "code",
      "source": [
        "c = 2\n",
        "#integer indexing\n",
        "print(k[[0,1,2], c])"
      ],
      "metadata": {
        "colab": {
          "base_uri": "https://localhost:8080/"
        },
        "id": "-hr90LE3-DrB",
        "outputId": "e524dbcb-cb2a-4625-d36d-9b530702d3f8"
      },
      "execution_count": null,
      "outputs": [
        {
          "output_type": "stream",
          "name": "stdout",
          "text": [
            "[ 3  7 11]\n"
          ]
        }
      ]
    },
    {
      "cell_type": "code",
      "source": [
        "k[[0,1,2], c] += 25\n",
        "print(k)"
      ],
      "metadata": {
        "colab": {
          "base_uri": "https://localhost:8080/"
        },
        "id": "E5plJPWx-WO7",
        "outputId": "a5a6ef0b-0d50-45e1-d848-78b7e1565f0d"
      },
      "execution_count": null,
      "outputs": [
        {
          "output_type": "stream",
          "name": "stdout",
          "text": [
            "[[ 1  2 28  4]\n",
            " [ 5  6 32  8]\n",
            " [ 9 10 36 12]]\n"
          ]
        }
      ]
    },
    {
      "cell_type": "code",
      "source": [
        "#boolean indexing\n",
        "\n",
        "bool_idx = (k > 25)\n",
        "print(bool_idx)"
      ],
      "metadata": {
        "colab": {
          "base_uri": "https://localhost:8080/"
        },
        "id": "YaRFjhMz_DBR",
        "outputId": "7989894f-21f5-46c1-954b-50542248b350"
      },
      "execution_count": null,
      "outputs": [
        {
          "output_type": "stream",
          "name": "stdout",
          "text": [
            "[[False False  True False]\n",
            " [False False  True False]\n",
            " [False False  True False]]\n"
          ]
        }
      ]
    },
    {
      "cell_type": "code",
      "source": [
        "print(k[k > 25]) # massa"
      ],
      "metadata": {
        "colab": {
          "base_uri": "https://localhost:8080/"
        },
        "id": "zJKSq5xa_Q_y",
        "outputId": "593e35f0-7b86-42ed-8b21-eba6ffe88e8d"
      },
      "execution_count": null,
      "outputs": [
        {
          "output_type": "stream",
          "name": "stdout",
          "text": [
            "[28 32 36]\n"
          ]
        }
      ]
    },
    {
      "cell_type": "code",
      "source": [
        "a = np.array([0,1,2], dtype=np.int32)\n",
        "print(a.dtype)\n",
        "a = np.array([0,1,2], dtype=np.int16)\n",
        "print(a.dtype)\n",
        "a = np.array([0,1,2], dtype=np.int8)\n",
        "print(a.dtype)\n",
        "#a = np.array([0,1,2], dtype=np.int4)\n",
        "#print(a.dtype)"
      ],
      "metadata": {
        "colab": {
          "base_uri": "https://localhost:8080/"
        },
        "id": "S2YbG05PA-pC",
        "outputId": "b8b43c81-8699-450c-bb8d-92a8311fa228"
      },
      "execution_count": null,
      "outputs": [
        {
          "output_type": "stream",
          "name": "stdout",
          "text": [
            "int32\n",
            "int16\n",
            "int8\n"
          ]
        }
      ]
    },
    {
      "cell_type": "code",
      "source": [
        "#soma de np arrays\n",
        "print(k)\n",
        "a = k + 1\n",
        "print(a)\n",
        "c = a + k\n",
        "print()\n",
        "print(c)\n",
        "\n",
        "# a * k -> elementwise multiplication\n",
        "# a @ k or np.dot(a, k) or a.dot(k) -> matrix/ vector mulitplication"
      ],
      "metadata": {
        "colab": {
          "base_uri": "https://localhost:8080/"
        },
        "id": "pOJEbtzqBjY7",
        "outputId": "f929f08f-9e98-4add-d3aa-f0ccd72169f2"
      },
      "execution_count": null,
      "outputs": [
        {
          "output_type": "stream",
          "name": "stdout",
          "text": [
            "[[ 1  2 28  4]\n",
            " [ 5  6 32  8]\n",
            " [ 9 10 36 12]]\n",
            "[[ 2  3 29  5]\n",
            " [ 6  7 33  9]\n",
            " [10 11 37 13]]\n",
            "\n",
            "[[ 3  5 57  9]\n",
            " [11 13 65 17]\n",
            " [19 21 73 25]]\n"
          ]
        }
      ]
    },
    {
      "cell_type": "code",
      "source": [
        "print(np.sum(k)) # sum of all elements"
      ],
      "metadata": {
        "colab": {
          "base_uri": "https://localhost:8080/"
        },
        "id": "Fk4X3GLACDUy",
        "outputId": "91f8900e-79dc-44f3-8852-70bf9291e724"
      },
      "execution_count": null,
      "outputs": [
        {
          "output_type": "stream",
          "name": "stdout",
          "text": [
            "153\n"
          ]
        }
      ]
    },
    {
      "cell_type": "code",
      "source": [
        "print(k)\n",
        "print(k.T) #transposed // T is an attribute :o"
      ],
      "metadata": {
        "colab": {
          "base_uri": "https://localhost:8080/"
        },
        "id": "ma23C7bfCrOq",
        "outputId": "1c67eb72-0b63-456d-aecb-c857b03b9fc9"
      },
      "execution_count": null,
      "outputs": [
        {
          "output_type": "stream",
          "name": "stdout",
          "text": [
            "[[ 1  2 28  4]\n",
            " [ 5  6 32  8]\n",
            " [ 9 10 36 12]]\n",
            "[[ 1  5  9]\n",
            " [ 2  6 10]\n",
            " [28 32 36]\n",
            " [ 4  8 12]]\n"
          ]
        }
      ]
    },
    {
      "cell_type": "code",
      "source": [
        "x = np.array([[1,2,3], [4,5,6], [7,8,9], [10, 11, 12]])\n",
        "v = np.array([1, 0, 1])\n",
        "y = x + v  # Add v to each row of x using broadcasting\n",
        "print(y)\n",
        "#behaves the same as:\n",
        "vv = np.tile(v, (4,1)) # 4 tiles of v\n",
        "y = x + vv\n",
        "print(y)\n",
        "\n",
        "#broadcasting is probably optimal when possible"
      ],
      "metadata": {
        "colab": {
          "base_uri": "https://localhost:8080/"
        },
        "id": "Es-BGUs9UyGA",
        "outputId": "ab18a8af-e5ee-4005-89ab-e4f48c8f4d10"
      },
      "execution_count": null,
      "outputs": [
        {
          "output_type": "stream",
          "name": "stdout",
          "text": [
            "[[ 2  2  4]\n",
            " [ 5  5  7]\n",
            " [ 8  8 10]\n",
            " [11 11 13]]\n",
            "[[ 2  2  4]\n",
            " [ 5  5  7]\n",
            " [ 8  8 10]\n",
            " [11 11 13]]\n"
          ]
        }
      ]
    },
    {
      "cell_type": "code",
      "source": [
        "# Compute outer product of vectors\n",
        "v = np.array([1,2,3])  # v has shape (3,)\n",
        "w = np.array([4,5])    # w has shape (2,)\n",
        "# To compute an outer product, we first reshape v to be a column\n",
        "# vector of shape (3, 1); we can then broadcast it against w to yield\n",
        "# an output of shape (3, 2), which is the outer product of v and w:\n",
        "\n",
        "print(np.reshape(v, (3, 1)) * w)"
      ],
      "metadata": {
        "colab": {
          "base_uri": "https://localhost:8080/"
        },
        "id": "n1fm2TZuUz0g",
        "outputId": "6040c21d-a4a1-4ea5-e306-1c4d00081cce"
      },
      "execution_count": null,
      "outputs": [
        {
          "output_type": "stream",
          "name": "stdout",
          "text": [
            "[[ 4  5]\n",
            " [ 8 10]\n",
            " [12 15]]\n"
          ]
        }
      ]
    },
    {
      "cell_type": "markdown",
      "source": [
        "Prática com MatPlotLib"
      ],
      "metadata": {
        "id": "QB_Ura8WXL_p"
      }
    },
    {
      "cell_type": "code",
      "source": [
        "import matplotlib.pyplot as plt\n",
        "%matplotlib inline"
      ],
      "metadata": {
        "id": "z_8lNwoYXQkZ"
      },
      "execution_count": 2,
      "outputs": []
    },
    {
      "cell_type": "code",
      "source": [
        "# Compute the x and y coordinates for points on a tangent curve\n",
        "x = np.arange(0, 3 * np.pi, 0.1)\n",
        "y = np.tan(x)\n",
        "\n",
        "# Plot the points using matplotlib\n",
        "plt.plot(x, y)"
      ],
      "metadata": {
        "colab": {
          "base_uri": "https://localhost:8080/",
          "height": 447
        },
        "id": "Q9q7KenYXeWX",
        "outputId": "26c24fb4-ceab-456a-e874-05f147dd6194"
      },
      "execution_count": null,
      "outputs": [
        {
          "output_type": "execute_result",
          "data": {
            "text/plain": [
              "[<matplotlib.lines.Line2D at 0x7c8c1f711ed0>]"
            ]
          },
          "metadata": {},
          "execution_count": 96
        },
        {
          "output_type": "display_data",
          "data": {
            "text/plain": [
              "<Figure size 640x480 with 1 Axes>"
            ],
            "image/png": "[encoded data removed]"
          },
          "metadata": {}
        }
      ]
    },
    {
      "cell_type": "code",
      "source": [
        "y_sin = np.tan(x)/10\n",
        "y_cos = np.cos(x)\n",
        "\n",
        "# Plot the points using matplotlib\n",
        "plt.plot(x, y_sin)\n",
        "plt.plot(x, y_cos)\n",
        "plt.xlabel('x axis label')\n",
        "plt.ylabel('y axis label')\n",
        "plt.title('Tan and Cosine')\n",
        "plt.legend(['Tan', 'Cosine'])"
      ],
      "metadata": {
        "colab": {
          "base_uri": "https://localhost:8080/",
          "height": 489
        },
        "id": "-ZwMQJ18X5Cf",
        "outputId": "567f4eda-f027-488a-99b4-bba09acf9f8a"
      },
      "execution_count": null,
      "outputs": [
        {
          "output_type": "execute_result",
          "data": {
            "text/plain": [
              "<matplotlib.legend.Legend at 0x7c8c1ef76320>"
            ]
          },
          "metadata": {},
          "execution_count": 106
        },
        {
          "output_type": "display_data",
          "data": {
            "text/plain": [
              "<Figure size 640x480 with 1 Axes>"
            ],
            "image/png": "[encoded data removed]"
          },
          "metadata": {}
        }
      ]
    },
    {
      "cell_type": "code",
      "source": [
        "x = np.arange(0, 2**6, 0.1)\n",
        "y = np.arctan(x)\n",
        "\n",
        "def f(x):\n",
        "  return x**2\n",
        "\n",
        "plt.plot(x, f(x))"
      ],
      "metadata": {
        "colab": {
          "base_uri": "https://localhost:8080/",
          "height": 447
        },
        "id": "_lPCfX69ZRez",
        "outputId": "07d30247-b563-4102-ecbf-9787dd429358"
      },
      "execution_count": null,
      "outputs": [
        {
          "output_type": "execute_result",
          "data": {
            "text/plain": [
              "[<matplotlib.lines.Line2D at 0x7c8c1e622f20>]"
            ]
          },
          "metadata": {},
          "execution_count": 117
        },
        {
          "output_type": "display_data",
          "data": {
            "text/plain": [
              "<Figure size 640x480 with 1 Axes>"
            ],
            "image/png": "[encoded data removed]"
          },
          "metadata": {}
        }
      ]
    },
    {
      "cell_type": "code",
      "source": [
        "x = np.arange(0, 30, 0.1)\n",
        "#x = np.array([0,1,2,3,4,5,6,7,8,9,10])\n",
        "def g(x):\n",
        "  return x - 25\n",
        "def k(x):\n",
        "  return x**2\n",
        "plt.plot(x, g(x))\n",
        "plt.plot(x, k(x))\n",
        "plt.xlabel(\"more numbers\")\n",
        "plt.ylabel(\"numbers\")\n",
        "plt.title(\"important\")"
      ],
      "metadata": {
        "colab": {
          "base_uri": "https://localhost:8080/",
          "height": 489
        },
        "id": "tQZIuhi5YK5L",
        "outputId": "534e742f-01b6-44a0-8673-b72441586350"
      },
      "execution_count": 22,
      "outputs": [
        {
          "output_type": "execute_result",
          "data": {
            "text/plain": [
              "Text(0.5, 1.0, 'important')"
            ]
          },
          "metadata": {},
          "execution_count": 22
        },
        {
          "output_type": "display_data",
          "data": {
            "text/plain": [
              "<Figure size 640x480 with 1 Axes>"
            ],
            "image/png": "[encoded data removed]"
          },
          "metadata": {}
        }
      ]
    },
    {
      "cell_type": "code",
      "source": [
        "print(x)"
      ],
      "metadata": {
        "colab": {
          "base_uri": "https://localhost:8080/"
        },
        "id": "tJjiea4LZFL7",
        "outputId": "dbe77b46-a1fb-431e-ae2d-0132a9a3768c"
      },
      "execution_count": 23,
      "outputs": [
        {
          "output_type": "stream",
          "name": "stdout",
          "text": [
            "[ 0.   0.1  0.2  0.3  0.4  0.5  0.6  0.7  0.8  0.9  1.   1.1  1.2  1.3\n",
            "  1.4  1.5  1.6  1.7  1.8  1.9  2.   2.1  2.2  2.3  2.4  2.5  2.6  2.7\n",
            "  2.8  2.9  3.   3.1  3.2  3.3  3.4  3.5  3.6  3.7  3.8  3.9  4.   4.1\n",
            "  4.2  4.3  4.4  4.5  4.6  4.7  4.8  4.9  5.   5.1  5.2  5.3  5.4  5.5\n",
            "  5.6  5.7  5.8  5.9  6.   6.1  6.2  6.3  6.4  6.5  6.6  6.7  6.8  6.9\n",
            "  7.   7.1  7.2  7.3  7.4  7.5  7.6  7.7  7.8  7.9  8.   8.1  8.2  8.3\n",
            "  8.4  8.5  8.6  8.7  8.8  8.9  9.   9.1  9.2  9.3  9.4  9.5  9.6  9.7\n",
            "  9.8  9.9 10.  10.1 10.2 10.3 10.4 10.5 10.6 10.7 10.8 10.9 11.  11.1\n",
            " 11.2 11.3 11.4 11.5 11.6 11.7 11.8 11.9 12.  12.1 12.2 12.3 12.4 12.5\n",
            " 12.6 12.7 12.8 12.9 13.  13.1 13.2 13.3 13.4 13.5 13.6 13.7 13.8 13.9\n",
            " 14.  14.1 14.2 14.3 14.4 14.5 14.6 14.7 14.8 14.9 15.  15.1 15.2 15.3\n",
            " 15.4 15.5 15.6 15.7 15.8 15.9 16.  16.1 16.2 16.3 16.4 16.5 16.6 16.7\n",
            " 16.8 16.9 17.  17.1 17.2 17.3 17.4 17.5 17.6 17.7 17.8 17.9 18.  18.1\n",
            " 18.2 18.3 18.4 18.5 18.6 18.7 18.8 18.9 19.  19.1 19.2 19.3 19.4 19.5\n",
            " 19.6 19.7 19.8 19.9 20.  20.1 20.2 20.3 20.4 20.5 20.6 20.7 20.8 20.9\n",
            " 21.  21.1 21.2 21.3 21.4 21.5 21.6 21.7 21.8 21.9 22.  22.1 22.2 22.3\n",
            " 22.4 22.5 22.6 22.7 22.8 22.9 23.  23.1 23.2 23.3 23.4 23.5 23.6 23.7\n",
            " 23.8 23.9 24.  24.1 24.2 24.3 24.4 24.5 24.6 24.7 24.8 24.9 25.  25.1\n",
            " 25.2 25.3 25.4 25.5 25.6 25.7 25.8 25.9 26.  26.1 26.2 26.3 26.4 26.5\n",
            " 26.6 26.7 26.8 26.9 27.  27.1 27.2 27.3 27.4 27.5 27.6 27.7 27.8 27.9\n",
            " 28.  28.1 28.2 28.3 28.4 28.5 28.6 28.7 28.8 28.9 29.  29.1 29.2 29.3\n",
            " 29.4 29.5 29.6 29.7 29.8 29.9]\n"
          ]
        }
      ]
    },
    {
      "cell_type": "code",
      "source": [
        "k = np.array([b for b in x if b % 2 == 0])\n",
        "print(k)\n",
        "print(k[k > 10])\n",
        "j = k[k>10]\n",
        "print(j)"
      ],
      "metadata": {
        "colab": {
          "base_uri": "https://localhost:8080/"
        },
        "id": "-JpvFuamaT1S",
        "outputId": "6566ebba-a800-4d4f-87c7-e70f6c2bb9ce"
      },
      "execution_count": 34,
      "outputs": [
        {
          "output_type": "stream",
          "name": "stdout",
          "text": [
            "[ 0.  2.  4.  6.  8. 10. 12. 14. 16. 18. 20. 22. 24. 26. 28.]\n",
            "[12. 14. 16. 18. 20. 22. 24. 26. 28.]\n",
            "[12. 14. 16. 18. 20. 22. 24. 26. 28.]\n"
          ]
        }
      ]
    }
  ]
}