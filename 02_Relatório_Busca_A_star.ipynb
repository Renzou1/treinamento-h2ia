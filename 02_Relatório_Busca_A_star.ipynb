{
  "nbformat": 4,
  "nbformat_minor": 0,
  "metadata": {
    "colab": {
      "provenance": [],
      "include_colab_link": true
    },
    "kernelspec": {
      "name": "python3",
      "display_name": "Python 3"
    },
    "language_info": {
      "name": "python"
    }
  },
  "cells": [
    {
      "cell_type": "markdown",
      "metadata": {
        "id": "view-in-github",
        "colab_type": "text"
      },
      "source": [
        "<a href=\"https://colab.research.google.com/github/Renzou1/treinamento-h2ia/blob/main/02_Relat%C3%B3rio_Busca_A_star.ipynb\" target=\"_parent\"><img src=\"https://colab.research.google.com/assets/colab-badge.svg\" alt=\"Open In Colab\"/></a>"
      ]
    },
    {
      "cell_type": "markdown",
      "metadata": {
        "id": "21uUELma0562"
      },
      "source": [
        "# O Problema\n",
        "Sliding Puzzle - Bloco Deslizante"
      ]
    },
    {
      "cell_type": "code",
      "metadata": {
        "colab": {
          "base_uri": "https://localhost:8080/",
          "height": 218
        },
        "id": "duRbJW3rz01L",
        "outputId": "e1049773-9cf4-4b39-e026-e220c566311f"
      },
      "source": [
        "# !wget -qq https://miro.medium.com/max/700/1*W7jg4GmEjGBypd9WPktasQ.gif\n",
        "from IPython.display import Image\n",
        "Image(url='https://miro.medium.com/max/700/1*W7jg4GmEjGBypd9WPktasQ.gif',width=200)"
      ],
      "execution_count": null,
      "outputs": [
        {
          "output_type": "execute_result",
          "data": {
            "text/html": [
              "<img src=\"https://miro.medium.com/max/700/1*W7jg4GmEjGBypd9WPktasQ.gif\" width=\"200\"/>"
            ],
            "text/plain": [
              "<IPython.core.display.Image object>"
            ]
          },
          "metadata": {
            "tags": []
          },
          "execution_count": 5
        }
      ]
    },
    {
      "cell_type": "markdown",
      "metadata": {
        "id": "f6TPxqB-1Cwx"
      },
      "source": [
        "# Resolver o quebra-cabeças usando Buscas"
      ]
    },
    {
      "cell_type": "code",
      "source": [
        "# Setting up\n",
        "# 0 = blank space\n",
        "import numpy as np\n",
        "from collections import deque\n",
        "\n",
        "def goal_reached(state):\n",
        "  return np.array_equal(state, np.arange(9))\n",
        "\n",
        "def create_initial_state():\n",
        "  arr = np.arange(9)\n",
        "  np.random.shuffle(arr)\n",
        "  return arr\n",
        "\n",
        "# \"move\" does not refer to the direction the blank space goes, but rather the tile that was moved to the blank space.\n",
        "def move_down(state):\n",
        "  local = list(state)\n",
        "  zero = local.index(0)\n",
        "  if zero - 3 >= 0:\n",
        "    local[zero], local[zero - 3] = local[zero - 3], local[zero]\n",
        "    return local\n",
        "  return None\n",
        "\n",
        "def move_up(state):\n",
        "  local = list(state)\n",
        "  zero = local.index(0)\n",
        "  if zero + 3 < 9:\n",
        "    local[zero], local[zero + 3] = local[zero + 3], local[zero]\n",
        "    return local\n",
        "  return None\n",
        "\n",
        "def move_left(state):\n",
        "  local = list(state)\n",
        "  zero = local.index(0)\n",
        "  if zero // 3 == (zero + 1) // 3:\n",
        "    local[zero], local[zero + 1] = local[zero + 1], local[zero]\n",
        "    return local\n",
        "  return None\n",
        "\n",
        "def move_right(state):\n",
        "  local = list(state)\n",
        "  zero = local.index(0)\n",
        "  if zero // 3 == (zero - 1) // 3:\n",
        "    local[zero], local[zero - 1] = local[zero - 1], local[zero]\n",
        "    return local\n",
        "  return None\n",
        "\n",
        "def print_solution(node):\n",
        "  states = deque()\n",
        "  actions = deque()\n",
        "  while node.parent != None:\n",
        "    states.append(node.state)\n",
        "    if node.action == move_right:\n",
        "      actions.append(\"move right:\")\n",
        "    elif node.action == move_left:\n",
        "      actions.append(\"move left:\")\n",
        "    elif node.action == move_down:\n",
        "      actions.append(\"move down:\")\n",
        "    elif node.action == move_up:\n",
        "      actions.append(\"move up:\")\n",
        "\n",
        "    node = node.parent\n",
        "    if(node.parent == None): #initial state\n",
        "      states.append(node.state)\n",
        "      actions.append(\"Initial State: \")\n",
        "\n",
        "  while len(states) != 0:\n",
        "    current = states.pop()\n",
        "    print(actions.pop())\n",
        "    print(current[:3])\n",
        "    print(current[3:6])\n",
        "    print(current[6:9])"
      ],
      "metadata": {
        "id": "i3ATK_iBfe6E"
      },
      "execution_count": 29,
      "outputs": []
    },
    {
      "cell_type": "code",
      "source": [
        "class node:\n",
        "  def __init__(self, parent=None, action=None, cost=0, state=None):\n",
        "    self.parent = parent\n",
        "    self.action = action\n",
        "    if parent == None:\n",
        "      self.state = create_initial_state()\n",
        "      self.cost = 0\n",
        "    else:\n",
        "      self.state = action(parent.state)\n",
        "      self.cost = parent.cost + 1\n",
        "\n",
        "  def add_child(self, action):\n",
        "    next_state = action(self.state)\n",
        "    if next_state != None:\n",
        "      return node(self, action, self.cost + 1, next_state)\n",
        "    else:\n",
        "      return None\n",
        "\n",
        "  def set_initial_state(self, state):\n",
        "    self.state = np.array(state)"
      ],
      "metadata": {
        "id": "k34Tx3hbfj87"
      },
      "execution_count": 30,
      "outputs": []
    },
    {
      "cell_type": "code",
      "source": [
        "class CustomQueue():\n",
        "  def __init__(self):\n",
        "    self.elements = []\n",
        "    self.priority = []\n",
        "    self.element_count = 0\n",
        "\n",
        "  def empty(self):\n",
        "    if self.element_count == 0:\n",
        "      return True\n",
        "    return False\n",
        "\n",
        "  def get(self):\n",
        "    self.element_count -= 1\n",
        "    self.priority.pop()\n",
        "    return self.elements.pop()\n",
        "\n",
        "  def put(self, priority, element):\n",
        "    #has to order\n",
        "    if self.element_count != 0:\n",
        "      self.insert_sorted(priority, element)\n",
        "    else:\n",
        "      self.elements.append(element)\n",
        "      self.priority.append(priority)\n",
        "    self.element_count += 1\n",
        "\n",
        "  def replace_priority(self, priority, element):\n",
        "    for index, item in enumerate(self.elements):\n",
        "      if np.array_equal(item.state, element.state):\n",
        "        if priority < self.priority[index]:\n",
        "          self.elements[index] = element\n",
        "          self.priority[index] = priority\n",
        "          print(self.priority)\n",
        "        break\n",
        "\n",
        "  def insert_sorted(self, priority, element):\n",
        "\n",
        "    index = self.element_count - 1\n",
        "\n",
        "    #duplicate last elements\n",
        "    self.elements.append(self.elements[index])\n",
        "    self.priority.append(self.priority[index])\n",
        "\n",
        "    index += 1\n",
        "\n",
        "    while index > 0 and self.priority[index] < priority: #ordered backwards\n",
        "      self.elements[index] = self.elements[index - 1]\n",
        "      self.priority[index] = self.priority[index - 1]\n",
        "      index -= 1\n",
        "\n",
        "    self.priority[index] = priority\n",
        "    self.elements[index] = element\n"
      ],
      "metadata": {
        "id": "oVoPTiJvKNVW"
      },
      "execution_count": 80,
      "outputs": []
    },
    {
      "cell_type": "markdown",
      "metadata": {
        "id": "o6ZClGCC1RxB"
      },
      "source": [
        "## Busca A*"
      ]
    },
    {
      "cell_type": "code",
      "metadata": {
        "id": "cmJfg8CF0Jwc",
        "colab": {
          "base_uri": "https://localhost:8080/"
        },
        "outputId": "3c867e97-58ce-498a-b20a-1b175c139baa"
      },
      "source": [
        "def cost(node):\n",
        "  return node.cost + np.count_nonzero(node.state - np.arange(9))\n",
        "\n",
        "def a_star(initial_state=None):\n",
        "  root = node()\n",
        "  if initial_state != None:\n",
        "    root.set_initial_state(initial_state)\n",
        "\n",
        "  actions = [move_up, move_right, move_left, move_down]\n",
        "  explored = set()\n",
        "  border = CustomQueue()\n",
        "  border.put(cost(root), root)\n",
        "  while True:\n",
        "    if border.empty():\n",
        "      return False\n",
        "    current = border.get()\n",
        "\n",
        "    if goal_reached(current.state):\n",
        "      print_solution(current)\n",
        "      return current.cost\n",
        "    explored.add(tuple(current.state))\n",
        "\n",
        "    for action in actions:\n",
        "      child = current.add_child(action)\n",
        "      if child != None:\n",
        "        if tuple(child.state) not in explored:\n",
        "          border.put(cost(child), child)\n",
        "\n",
        "\n",
        "print(\"Total moves:\", a_star([1,8,7,0,3,4,5,2,6]))\n"
      ],
      "execution_count": 99,
      "outputs": [
        {
          "output_type": "stream",
          "name": "stdout",
          "text": [
            "Initial State: \n",
            "[1 8 7]\n",
            "[0 3 4]\n",
            "[5 2 6]\n",
            "move left:\n",
            "[1, 8, 7]\n",
            "[3, 0, 4]\n",
            "[5, 2, 6]\n",
            "move down:\n",
            "[1, 0, 7]\n",
            "[3, 8, 4]\n",
            "[5, 2, 6]\n",
            "move left:\n",
            "[1, 7, 0]\n",
            "[3, 8, 4]\n",
            "[5, 2, 6]\n",
            "move up:\n",
            "[1, 7, 4]\n",
            "[3, 8, 0]\n",
            "[5, 2, 6]\n",
            "move right:\n",
            "[1, 7, 4]\n",
            "[3, 0, 8]\n",
            "[5, 2, 6]\n",
            "move up:\n",
            "[1, 7, 4]\n",
            "[3, 2, 8]\n",
            "[5, 0, 6]\n",
            "move left:\n",
            "[1, 7, 4]\n",
            "[3, 2, 8]\n",
            "[5, 6, 0]\n",
            "move down:\n",
            "[1, 7, 4]\n",
            "[3, 2, 0]\n",
            "[5, 6, 8]\n",
            "move right:\n",
            "[1, 7, 4]\n",
            "[3, 0, 2]\n",
            "[5, 6, 8]\n",
            "move down:\n",
            "[1, 0, 4]\n",
            "[3, 7, 2]\n",
            "[5, 6, 8]\n",
            "move right:\n",
            "[0, 1, 4]\n",
            "[3, 7, 2]\n",
            "[5, 6, 8]\n",
            "move up:\n",
            "[3, 1, 4]\n",
            "[0, 7, 2]\n",
            "[5, 6, 8]\n",
            "move up:\n",
            "[3, 1, 4]\n",
            "[5, 7, 2]\n",
            "[0, 6, 8]\n",
            "move left:\n",
            "[3, 1, 4]\n",
            "[5, 7, 2]\n",
            "[6, 0, 8]\n",
            "move down:\n",
            "[3, 1, 4]\n",
            "[5, 0, 2]\n",
            "[6, 7, 8]\n",
            "move right:\n",
            "[3, 1, 4]\n",
            "[0, 5, 2]\n",
            "[6, 7, 8]\n",
            "move down:\n",
            "[0, 1, 4]\n",
            "[3, 5, 2]\n",
            "[6, 7, 8]\n",
            "move left:\n",
            "[1, 0, 4]\n",
            "[3, 5, 2]\n",
            "[6, 7, 8]\n",
            "move left:\n",
            "[1, 4, 0]\n",
            "[3, 5, 2]\n",
            "[6, 7, 8]\n",
            "move up:\n",
            "[1, 4, 2]\n",
            "[3, 5, 0]\n",
            "[6, 7, 8]\n",
            "move right:\n",
            "[1, 4, 2]\n",
            "[3, 0, 5]\n",
            "[6, 7, 8]\n",
            "move down:\n",
            "[1, 0, 2]\n",
            "[3, 4, 5]\n",
            "[6, 7, 8]\n",
            "move right:\n",
            "[0, 1, 2]\n",
            "[3, 4, 5]\n",
            "[6, 7, 8]\n",
            "Total moves: 23\n"
          ]
        }
      ]
    },
    {
      "cell_type": "markdown",
      "metadata": {
        "id": "rXU5HkCd1ZPu"
      },
      "source": [
        "## Discorra sobre o desempenho do método em questões de:\n",
        "\n",
        "\n",
        "1.   Consumo de memória\n",
        "2.   Processamento\n",
        "\n"
      ]
    },
    {
      "cell_type": "code",
      "metadata": {
        "id": "-M6rztKu1W1j"
      },
      "source": [
        "# A* é um ótimo algoritmo. Como diz o terceiro capítulo do livro de Inteligência Artifical de Russel e Norvig, ele é \"otimamente eficiente\", ou seja, \"não é garantido que nenhum outro\n",
        "# algoritmo ótimo expanda menos nós do que A*(exceto, possivelmente, através de desempate entre os\n",
        "# nós com f(n) = C*).\"\n",
        "# Isso essencialmente significa que é dificíl supera-lo no que ele faz: Achar a solução ótima para uma busca em um grafo ou árvore, dada uma certa heurística.\n",
        "\n",
        "# Porém, isso não significa que o que ele faz é sempre o mais desejável. Em primeiro lugar, ele guarda todos os nós gerados na memória, o que muitas vezes é o fator limitante.\n",
        "# Além disso, no caso de busca em um grafo, por exemplo, \"Pode haver muitos estados\n",
        "# exponencialmente com f(n) < C*\", ou seja, A* passará por um número exponencial de estados antes de encontrar alguma solução.\n",
        "\n",
        "# Mesmo sendo muitas vezes mais eficiente do que algoritmos de busca sem informação, ele ainda é superado em performance e memória por algoritmos\n",
        "# que descartam a necessidade de obterem um caminho ótimo."
      ],
      "execution_count": 105,
      "outputs": []
    }
  ]
}