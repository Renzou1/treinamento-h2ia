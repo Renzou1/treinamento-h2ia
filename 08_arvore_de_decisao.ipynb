{
  "cells": [
    {
      "cell_type": "markdown",
      "metadata": {
        "id": "view-in-github",
        "colab_type": "text"
      },
      "source": [
        "<a href=\"https://colab.research.google.com/github/Renzou1/treinamento-h2ia/blob/main/08_arvore_de_decisao.ipynb\" target=\"_parent\"><img src=\"https://colab.research.google.com/assets/colab-badge.svg\" alt=\"Open In Colab\"/></a>"
      ]
    },
    {
      "cell_type": "markdown",
      "metadata": {
        "id": "6f5treeJDpc4"
      },
      "source": [
        "# Árvore de Decisão"
      ]
    },
    {
      "cell_type": "code",
      "execution_count": 1,
      "metadata": {
        "id": "G9eUeAaGt98L"
      },
      "outputs": [],
      "source": [
        "from sklearn import datasets\n",
        "from sklearn.decomposition import PCA\n",
        "import numpy as np\n",
        "import pandas as pd\n",
        "import matplotlib.pyplot as plt\n",
        "import random\n",
        "import math"
      ]
    },
    {
      "cell_type": "code",
      "execution_count": 2,
      "metadata": {
        "id": "IdsvSVIiOzKj"
      },
      "outputs": [],
      "source": [
        "def min_max_operation(value, min_val, max_val):\n",
        "    return (value - min_val) / (max_val - min_val)"
      ]
    },
    {
      "cell_type": "code",
      "execution_count": 3,
      "metadata": {
        "id": "uQmpJ7dSaUI7"
      },
      "outputs": [],
      "source": [
        "def min_max_normalization(array):\n",
        "  rows, cols = array.shape\n",
        "\n",
        "  for c in range(cols):\n",
        "    min_val = np.min(array[:, c])\n",
        "    max_val = np.max(array[:, c])\n",
        "\n",
        "    for r in range(rows):\n",
        "      array[r][c] = min_max_operation(array[r][c], min_val, max_val)"
      ]
    },
    {
      "cell_type": "code",
      "execution_count": 4,
      "metadata": {
        "id": "weIfMjCOLRAb"
      },
      "outputs": [],
      "source": [
        "def get_entropy(proportion_list):\n",
        "    non_zero_proportions = proportion_list[proportion_list > 0]\n",
        "    return -np.sum(non_zero_proportions * np.log2(non_zero_proportions))"
      ]
    },
    {
      "cell_type": "code",
      "execution_count": 5,
      "metadata": {
        "id": "PKYLJJhMFZYs"
      },
      "outputs": [],
      "source": [
        "class Node:\n",
        "  def __init__(self, attribute=None, comparison_value=None):\n",
        "    self.attribute = attribute\n",
        "    self.comparison_value = comparison_value\n",
        "    self.true_child = None\n",
        "    self.false_child = None\n",
        "    self.leaf_node = False\n",
        "\n",
        "  def add_true_child(self, true_child):\n",
        "    self.true_child = true_child\n",
        "\n",
        "  def add_false_child(self, false_child):\n",
        "    self.false_child = false_child\n",
        "\n",
        "  def turn_into_leaf(self, answer):\n",
        "    self.answer = answer\n",
        "    self.leaf_node = True\n",
        "\n",
        "  def add_true_leaf(self, answer):\n",
        "    self.true_child = Node()\n",
        "    self.true_child.leaf_node = True\n",
        "    self.true_child.answer = answer\n",
        "\n",
        "  def add_false_leaf(self, answer):\n",
        "    self.false_child = Node()\n",
        "    self.false_child.leaf_node = True\n",
        "    self.false_child.answer = answer"
      ]
    },
    {
      "cell_type": "code",
      "execution_count": 30,
      "metadata": {
        "id": "ZcrG85uAwul_"
      },
      "outputs": [],
      "source": [
        "def decision_tree(dataset, target, father_node=None, condition=False, minimum_for_splitting=20):\n",
        "\n",
        "  rows, cols = dataset.shape\n",
        "  minimum = minimum_for_splitting\n",
        "\n",
        "  if rows <= minimum or np.all(target == target[0]):\n",
        "    count_array = np.bincount(target)\n",
        "    answer = np.where(count_array == np.max(count_array))[0][0]\n",
        "    if condition == True:\n",
        "      father_node.add_true_leaf(answer)\n",
        "    else:\n",
        "      father_node.add_false_leaf(answer)\n",
        "    return\n",
        "\n",
        "\n",
        "  classes = [0,1,2]\n",
        "\n",
        "  best_entropy = np.log2(len(classes)) #maximum entropy\n",
        "  best_attribute = 0\n",
        "  best_step = 0\n",
        "\n",
        "  ## CALCULATING BEST ENTROPY\n",
        "  for attribute in range(cols):\n",
        "    min_val = np.min(dataset[:, attribute])\n",
        "    max_val = np.max(dataset[:, attribute])\n",
        "\n",
        "    for step in np.linspace(0, 1, 6):\n",
        "      if step < min_val:\n",
        "        continue\n",
        "      if step > max_val:\n",
        "        break\n",
        "\n",
        "      condition_array = dataset[:, attribute] < step\n",
        "      counter_list = np.zeros(len(classes))\n",
        "      proportion_list = np.zeros(len(classes))\n",
        "\n",
        "      for c in classes:\n",
        "        counter_list[c] = len([idx for idx, x in enumerate(condition_array) if x == True and target[idx] == c])\n",
        "\n",
        "      if counter_list.sum() < minimum or (rows - counter_list.sum()) < minimum:\n",
        "        continue\n",
        "      if counter_list.sum():\n",
        "        for c in classes:\n",
        "          proportion_list[c] = counter_list[c] / counter_list.sum()\n",
        "\n",
        "        entropy = get_entropy(proportion_list)\n",
        "        if entropy < best_entropy:\n",
        "          best_entropy = entropy\n",
        "          best_attribute = attribute\n",
        "          best_step = step\n",
        "\n",
        "\n",
        "  if best_entropy == np.log2(len(classes)): #worst possible entropy\n",
        "    count_array = np.bincount(target)\n",
        "    answer = np.where(count_array == np.max(count_array))[0][0]\n",
        "    if condition == True:\n",
        "      father_node.add_true_leaf(answer)\n",
        "    else:\n",
        "      father_node.add_false_leaf(answer)\n",
        "    return\n",
        "  ## SETTING NEW SUB DATASETS\n",
        "  true_case = np.array([x for row, x in enumerate(dataset) if dataset[row][best_attribute] < best_step])\n",
        "  indices = [row for row, x in enumerate(dataset) if dataset[row][best_attribute] < best_step]\n",
        "  true_target = target[indices]\n",
        "\n",
        "  false_case = np.array([x for row, x in enumerate(dataset) if dataset[row][best_attribute] >= best_step])\n",
        "  indices = [row for row, x in enumerate(dataset) if dataset[row][best_attribute] >= best_step]\n",
        "  false_target = target[indices]\n",
        "\n",
        "  ## CREATING NEW NODE FOR FALSE AND TRUE CASE\n",
        "  new_node = Node(best_attribute, best_step)\n",
        "  if father_node != None:\n",
        "    if condition == True:\n",
        "      father_node.add_true_child(new_node)\n",
        "    else:\n",
        "      father_node.add_false_child(new_node)\n",
        "  if dataset.size != true_case.size and dataset.size != false_case.size:\n",
        "    decision_tree(true_case, true_target, father_node=new_node, condition=True)\n",
        "    decision_tree(false_case, false_target, father_node=new_node, condition=False)\n",
        "\n",
        "\n",
        "  return new_node"
      ]
    },
    {
      "cell_type": "code",
      "execution_count": 7,
      "metadata": {
        "id": "uj6C013XJljO"
      },
      "outputs": [],
      "source": [
        "def print_tree(node, feature_names, condition=False, depth=0):\n",
        "  for i in range(depth):\n",
        "    print(\" \", end=\"\")\n",
        "  if node == None:\n",
        "    return\n",
        "  if depth != 0:\n",
        "    print(condition, \":\", end=\"\")\n",
        "  if node.leaf_node == True:\n",
        "    print(\"Class:\", node.answer)\n",
        "    return\n",
        "  else:\n",
        "    print(feature_names[node.attribute], \"<\", node.comparison_value)\n",
        "  print_tree(node.true_child, feature_names, condition=True, depth=depth+1)\n",
        "  print_tree(node.false_child, feature_names, condition=False, depth=depth+1)"
      ]
    },
    {
      "cell_type": "code",
      "execution_count": 8,
      "metadata": {
        "id": "THrfqyD4SVjM"
      },
      "outputs": [],
      "source": [
        "def evaluate_wine(dataset, wine, node):\n",
        "  if node == None:\n",
        "    return\n",
        "  if node.leaf_node == True:\n",
        "    return node.answer\n",
        "\n",
        "  if dataset[wine][node.attribute] < node.comparison_value:\n",
        "    return evaluate_wine(dataset, wine, node.true_child)\n",
        "  else:\n",
        "    return evaluate_wine(dataset, wine, node.false_child)"
      ]
    },
    {
      "cell_type": "code",
      "execution_count": 9,
      "metadata": {
        "id": "xlLEm6pHQpE6"
      },
      "outputs": [],
      "source": [
        "def run_tree(dataset, target, tree):\n",
        "  correct_guesses = 0\n",
        "  incorrect_guesses = 0\n",
        "  wines, attributes = dataset.shape\n",
        "  for wine, x in enumerate(dataset):\n",
        "    expected_class = evaluate_wine(dataset, wine, tree)\n",
        "    if expected_class == target[wine]:\n",
        "      correct_guesses += 1\n",
        "    else:\n",
        "      incorrect_guesses += 1\n",
        "\n",
        "  print(\"Accuracy:\", correct_guesses/wines)\n",
        "\n"
      ]
    },
    {
      "cell_type": "code",
      "execution_count": 29,
      "metadata": {
        "colab": {
          "base_uri": "https://localhost:8080/"
        },
        "id": "Zew3JVsh2an9",
        "outputId": "ab642bd3-6577-4c30-e69b-73a98c8301ff"
      },
      "outputs": [
        {
          "output_type": "stream",
          "name": "stdout",
          "text": [
            "Obs: values are (min-max) normalized\n",
            "color_intensity < 0.2\n",
            " True :malic_acid < 0.2\n",
            "  True :Class: 1\n",
            "  False :Class: 1\n",
            " False :total_phenols < 0.2\n",
            "  True :Class: 2\n",
            "  False :flavanoids < 0.2\n",
            "   True :Class: 2\n",
            "   False :alcalinity_of_ash < 0.4\n",
            "    True :malic_acid < 0.2\n",
            "     True :Class: 0\n",
            "     False :Class: 0\n",
            "    False :Class: 0\n",
            "Accuracy: 0.898876404494382\n"
          ]
        }
      ],
      "source": [
        "def main():\n",
        "  wine = datasets.load_wine()\n",
        "  min_max_normalization(wine.data)\n",
        "  wine_dataset = wine.data\n",
        "  tree = decision_tree(wine_dataset, wine.target, minimum_for_splitting=15) #minimum defines tree shape, smaller == more overfit in theory\n",
        "  print_tree(tree, wine.feature_names)\n",
        "  run_tree(wine_dataset, wine.target, tree)\n",
        "\n",
        "print(\"Obs: values are (min-max) normalized\")\n",
        "main()"
      ]
    }
  ],
  "metadata": {
    "colab": {
      "provenance": [],
      "authorship_tag": "ABX9TyO9DhP5cNUtNs2jiq7Y1ooW",
      "include_colab_link": true
    },
    "kernelspec": {
      "display_name": "Python 3",
      "name": "python3"
    },
    "language_info": {
      "name": "python"
    }
  },
  "nbformat": 4,
  "nbformat_minor": 0
}