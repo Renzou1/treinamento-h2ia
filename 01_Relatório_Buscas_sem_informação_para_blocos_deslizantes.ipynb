{
  "cells": [
    {
      "cell_type": "markdown",
      "metadata": {
        "id": "view-in-github",
        "colab_type": "text"
      },
      "source": [
        "<a href=\"https://colab.research.google.com/github/Renzou1/treinamento-h2ia/blob/main/01_Relat%C3%B3rio_Buscas_sem_informa%C3%A7%C3%A3o_para_blocos_deslizantes.ipynb\" target=\"_parent\"><img src=\"https://colab.research.google.com/assets/colab-badge.svg\" alt=\"Open In Colab\"/></a>"
      ]
    },
    {
      "cell_type": "markdown",
      "metadata": {
        "id": "21uUELma0562"
      },
      "source": [
        "# O Problema\n",
        "Sliding Puzzle - Bloco Deslizante"
      ]
    },
    {
      "cell_type": "code",
      "execution_count": null,
      "metadata": {
        "colab": {
          "base_uri": "https://localhost:8080/",
          "height": 218
        },
        "id": "duRbJW3rz01L",
        "outputId": "e1049773-9cf4-4b39-e026-e220c566311f"
      },
      "outputs": [
        {
          "data": {
            "text/html": [
              "<img src=\"https://miro.medium.com/max/700/1*W7jg4GmEjGBypd9WPktasQ.gif\" width=\"200\"/>"
            ],
            "text/plain": [
              "<IPython.core.display.Image object>"
            ]
          },
          "execution_count": 5,
          "metadata": {
            "tags": []
          },
          "output_type": "execute_result"
        }
      ],
      "source": [
        "# !wget -qq https://miro.medium.com/max/700/1*W7jg4GmEjGBypd9WPktasQ.gif\n",
        "from IPython.display import Image\n",
        "Image(url='https://miro.medium.com/max/700/1*W7jg4GmEjGBypd9WPktasQ.gif',width=200)"
      ]
    },
    {
      "cell_type": "markdown",
      "metadata": {
        "id": "f6TPxqB-1Cwx"
      },
      "source": [
        "# Resolver o quebra-cabeças usando Buscas"
      ]
    },
    {
      "cell_type": "code",
      "execution_count": 2,
      "metadata": {
        "id": "2QYB_7CQmTFG"
      },
      "outputs": [],
      "source": [
        "# Setting up\n",
        "# 0 = blank space\n",
        "import numpy as np\n",
        "from collections import deque\n",
        "\n",
        "def goal_reached(state):\n",
        "  return np.array_equal(state, np.arange(9))\n",
        "\n",
        "def create_initial_state():\n",
        "  arr = np.arange(9)\n",
        "  np.random.shuffle(arr)\n",
        "  return arr\n",
        "\n",
        "# \"move\" does not refer to the direction the blank space goes, but rather the tile that was moved to the blank space.\n",
        "def move_down(state):\n",
        "  local = list(state)\n",
        "  zero = local.index(0)\n",
        "  if zero - 3 >= 0:\n",
        "    local[zero], local[zero - 3] = local[zero - 3], local[zero]\n",
        "    return local\n",
        "  return None\n",
        "\n",
        "def move_up(state):\n",
        "  local = list(state)\n",
        "  zero = local.index(0)\n",
        "  if zero + 3 < 9:\n",
        "    local[zero], local[zero + 3] = local[zero + 3], local[zero]\n",
        "    return local\n",
        "  return None\n",
        "\n",
        "def move_left(state):\n",
        "  local = list(state)\n",
        "  zero = local.index(0)\n",
        "  if zero // 3 == (zero + 1) // 3:\n",
        "    local[zero], local[zero + 1] = local[zero + 1], local[zero]\n",
        "    return local\n",
        "  return None\n",
        "\n",
        "def move_right(state):\n",
        "  local = list(state)\n",
        "  zero = local.index(0)\n",
        "  if zero // 3 == (zero - 1) // 3:\n",
        "    local[zero], local[zero - 1] = local[zero - 1], local[zero]\n",
        "    return local\n",
        "  return None\n",
        "\n",
        "def print_solution(node):\n",
        "  states = deque()\n",
        "  actions = deque()\n",
        "  while node.parent != None:\n",
        "    states.append(node.state)\n",
        "    if node.action == move_right:\n",
        "      actions.append(\"move right:\")\n",
        "    elif node.action == move_left:\n",
        "      actions.append(\"move left:\")\n",
        "    elif node.action == move_down:\n",
        "      actions.append(\"move down:\")\n",
        "    elif node.action == move_up:\n",
        "      actions.append(\"move up:\")\n",
        "\n",
        "    node = node.parent\n",
        "    if(node.parent == None): #initial state\n",
        "      states.append(node.state)\n",
        "      actions.append(\"Initial State: \")\n",
        "\n",
        "  while len(states) != 0:\n",
        "    current = states.pop()\n",
        "    print(actions.pop())\n",
        "    print(current[:3])\n",
        "    print(current[3:6])\n",
        "    print(current[6:9])"
      ]
    },
    {
      "cell_type": "code",
      "execution_count": 3,
      "metadata": {
        "id": "ut27YOF0SEjN"
      },
      "outputs": [],
      "source": [
        "class node:\n",
        "  def __init__(self, parent=None, action=None, cost=0, state=None):\n",
        "    self.parent = parent\n",
        "    self.action = action\n",
        "    if parent == None:\n",
        "      self.state = create_initial_state()\n",
        "      self.cost = 0\n",
        "    else:\n",
        "      self.state = action(parent.state)\n",
        "      self.cost = parent.cost + 1\n",
        "\n",
        "  def add_child(self, action):\n",
        "    next_state = action(self.state)\n",
        "    if next_state != None:\n",
        "      return node(self, action, self.cost + 1, next_state)\n",
        "    else:\n",
        "      return None\n",
        "\n",
        "  def set_initial_state(self, state):\n",
        "    self.state = np.array(state)"
      ]
    },
    {
      "cell_type": "markdown",
      "metadata": {
        "id": "o6ZClGCC1RxB"
      },
      "source": [
        "## Busca em largura"
      ]
    },
    {
      "cell_type": "code",
      "execution_count": 19,
      "metadata": {
        "colab": {
          "base_uri": "https://localhost:8080/"
        },
        "id": "cmJfg8CF0Jwc",
        "outputId": "c2b61d4b-207d-4ed8-b5f8-946e8613421c"
      },
      "outputs": [
        {
          "output_type": "stream",
          "name": "stdout",
          "text": [
            "Initial State: \n",
            "[1 7 6]\n",
            "[4 5 3]\n",
            "[0 2 8]\n",
            "move down:\n",
            "[1, 7, 6]\n",
            "[0, 5, 3]\n",
            "[4, 2, 8]\n",
            "move down:\n",
            "[0, 7, 6]\n",
            "[1, 5, 3]\n",
            "[4, 2, 8]\n",
            "move left:\n",
            "[7, 0, 6]\n",
            "[1, 5, 3]\n",
            "[4, 2, 8]\n",
            "move left:\n",
            "[7, 6, 0]\n",
            "[1, 5, 3]\n",
            "[4, 2, 8]\n",
            "move up:\n",
            "[7, 6, 3]\n",
            "[1, 5, 0]\n",
            "[4, 2, 8]\n",
            "move right:\n",
            "[7, 6, 3]\n",
            "[1, 0, 5]\n",
            "[4, 2, 8]\n",
            "move up:\n",
            "[7, 6, 3]\n",
            "[1, 2, 5]\n",
            "[4, 0, 8]\n",
            "move left:\n",
            "[7, 6, 3]\n",
            "[1, 2, 5]\n",
            "[4, 8, 0]\n",
            "move down:\n",
            "[7, 6, 3]\n",
            "[1, 2, 0]\n",
            "[4, 8, 5]\n",
            "move right:\n",
            "[7, 6, 3]\n",
            "[1, 0, 2]\n",
            "[4, 8, 5]\n",
            "move right:\n",
            "[7, 6, 3]\n",
            "[0, 1, 2]\n",
            "[4, 8, 5]\n",
            "move down:\n",
            "[0, 6, 3]\n",
            "[7, 1, 2]\n",
            "[4, 8, 5]\n",
            "move left:\n",
            "[6, 0, 3]\n",
            "[7, 1, 2]\n",
            "[4, 8, 5]\n",
            "move left:\n",
            "[6, 3, 0]\n",
            "[7, 1, 2]\n",
            "[4, 8, 5]\n",
            "move up:\n",
            "[6, 3, 2]\n",
            "[7, 1, 0]\n",
            "[4, 8, 5]\n",
            "move up:\n",
            "[6, 3, 2]\n",
            "[7, 1, 5]\n",
            "[4, 8, 0]\n",
            "move right:\n",
            "[6, 3, 2]\n",
            "[7, 1, 5]\n",
            "[4, 0, 8]\n",
            "move right:\n",
            "[6, 3, 2]\n",
            "[7, 1, 5]\n",
            "[0, 4, 8]\n",
            "move down:\n",
            "[6, 3, 2]\n",
            "[0, 1, 5]\n",
            "[7, 4, 8]\n",
            "move down:\n",
            "[0, 3, 2]\n",
            "[6, 1, 5]\n",
            "[7, 4, 8]\n",
            "move left:\n",
            "[3, 0, 2]\n",
            "[6, 1, 5]\n",
            "[7, 4, 8]\n",
            "move up:\n",
            "[3, 1, 2]\n",
            "[6, 0, 5]\n",
            "[7, 4, 8]\n",
            "move up:\n",
            "[3, 1, 2]\n",
            "[6, 4, 5]\n",
            "[7, 0, 8]\n",
            "move right:\n",
            "[3, 1, 2]\n",
            "[6, 4, 5]\n",
            "[0, 7, 8]\n",
            "move down:\n",
            "[3, 1, 2]\n",
            "[0, 4, 5]\n",
            "[6, 7, 8]\n",
            "move down:\n",
            "[0, 1, 2]\n",
            "[3, 4, 5]\n",
            "[6, 7, 8]\n",
            "Total moves: 26\n"
          ]
        }
      ],
      "source": [
        "def breadth_first_search(initial_state=None):\n",
        "  root = node()\n",
        "  if initial_state != None:\n",
        "    root.set_initial_state(initial_state)\n",
        "\n",
        "  actions = [move_up, move_right, move_left, move_down]\n",
        "  if goal_reached(root.state):\n",
        "    return 0\n",
        "  queue = deque()\n",
        "  queue.append(root)\n",
        "  explored_states = set()\n",
        "  while True:\n",
        "    current = queue.popleft()\n",
        "    explored_states.add(tuple(current.state))\n",
        "    for action in actions:\n",
        "      child = current.add_child(action)\n",
        "      if child != None:\n",
        "        if tuple(child.state) not in explored_states and child not in queue:\n",
        "          if goal_reached(child.state):\n",
        "            print_solution(child)\n",
        "            return child.cost\n",
        "          queue.append(child)\n",
        "\n",
        "print(\"Total moves:\", breadth_first_search())"
      ]
    },
    {
      "cell_type": "markdown",
      "metadata": {
        "id": "zCCoey-J1U5t"
      },
      "source": [
        "## Busca em Profundidade"
      ]
    },
    {
      "cell_type": "code",
      "execution_count": 13,
      "metadata": {
        "id": "XJkS_j3m8A4x",
        "colab": {
          "base_uri": "https://localhost:8080/"
        },
        "outputId": "b05306a5-5614-4365-dc87-bb2d9e965233"
      },
      "outputs": [
        {
          "output_type": "stream",
          "name": "stdout",
          "text": [
            "Initial State: \n",
            "[1 0 2]\n",
            "[3 4 5]\n",
            "[6 7 8]\n",
            "move up:\n",
            "[1, 4, 2]\n",
            "[3, 0, 5]\n",
            "[6, 7, 8]\n",
            "move up:\n",
            "[1, 4, 2]\n",
            "[3, 7, 5]\n",
            "[6, 0, 8]\n",
            "move right:\n",
            "[1, 4, 2]\n",
            "[3, 7, 5]\n",
            "[0, 6, 8]\n",
            "move left:\n",
            "[1, 4, 2]\n",
            "[3, 7, 5]\n",
            "[6, 0, 8]\n",
            "move right:\n",
            "[1, 4, 2]\n",
            "[3, 7, 5]\n",
            "[0, 6, 8]\n",
            "move left:\n",
            "[1, 4, 2]\n",
            "[3, 7, 5]\n",
            "[6, 0, 8]\n",
            "move right:\n",
            "[1, 4, 2]\n",
            "[3, 7, 5]\n",
            "[0, 6, 8]\n",
            "move left:\n",
            "[1, 4, 2]\n",
            "[3, 7, 5]\n",
            "[6, 0, 8]\n",
            "move right:\n",
            "[1, 4, 2]\n",
            "[3, 7, 5]\n",
            "[0, 6, 8]\n",
            "move left:\n",
            "[1, 4, 2]\n",
            "[3, 7, 5]\n",
            "[6, 0, 8]\n",
            "move right:\n",
            "[1, 4, 2]\n",
            "[3, 7, 5]\n",
            "[0, 6, 8]\n",
            "move left:\n",
            "[1, 4, 2]\n",
            "[3, 7, 5]\n",
            "[6, 0, 8]\n",
            "move right:\n",
            "[1, 4, 2]\n",
            "[3, 7, 5]\n",
            "[0, 6, 8]\n",
            "move left:\n",
            "[1, 4, 2]\n",
            "[3, 7, 5]\n",
            "[6, 0, 8]\n",
            "move right:\n",
            "[1, 4, 2]\n",
            "[3, 7, 5]\n",
            "[0, 6, 8]\n",
            "move left:\n",
            "[1, 4, 2]\n",
            "[3, 7, 5]\n",
            "[6, 0, 8]\n",
            "move down:\n",
            "[1, 4, 2]\n",
            "[3, 0, 5]\n",
            "[6, 7, 8]\n",
            "move down:\n",
            "[1, 0, 2]\n",
            "[3, 4, 5]\n",
            "[6, 7, 8]\n",
            "move right:\n",
            "[0, 1, 2]\n",
            "[3, 4, 5]\n",
            "[6, 7, 8]\n",
            "Total moves: 19\n"
          ]
        }
      ],
      "source": [
        "CUT = False\n",
        "FAIL = True\n",
        "\n",
        "def depth_first_search(max_depth, initial_state=None):\n",
        "  root = node()\n",
        "  if initial_state != None:\n",
        "    root.set_initial_state(initial_state)\n",
        "\n",
        "  actions = [move_up, move_right, move_left, move_down]\n",
        "  return depth_first_recursive(root, max_depth, actions)\n",
        "\n",
        "def depth_first_recursive(node, max_depth, actions):\n",
        "\n",
        "  if goal_reached(node.state):\n",
        "    print_solution(node)\n",
        "    return node.cost\n",
        "  elif max_depth == 0:\n",
        "    return CUT\n",
        "  else:\n",
        "    for action in actions:\n",
        "      child = node.add_child(action)\n",
        "      if child != None: # impossible move\n",
        "        result = depth_first_recursive(child, max_depth - 1, actions)\n",
        "        if result == CUT:\n",
        "          limit_reached = True\n",
        "        elif result != FAIL:\n",
        "          return result\n",
        "    if limit_reached:\n",
        "      return CUT\n",
        "    else:\n",
        "      return FAIL\n",
        "\n",
        "\n",
        "\n",
        "print(\"Total moves:\", depth_first_search(20, [1,0,2,3,4,5,6,7,8]))"
      ]
    },
    {
      "cell_type": "markdown",
      "metadata": {
        "id": "rXU5HkCd1ZPu"
      },
      "source": [
        "## Discorra sobre o desempenho dos métodos em questões de:\n",
        "\n",
        "\n",
        "1.   Consumo de memória\n",
        "2.   Processamento\n",
        "\n"
      ]
    },
    {
      "cell_type": "code",
      "execution_count": null,
      "metadata": {
        "id": "-M6rztKu1W1j"
      },
      "outputs": [],
      "source": [
        "# Os dois métodos, como buscas sem informação, tem complexidade de tempo e espaço bem ruins. Como diz o terceiro capítulo do livro de Inteligência Artifical de Russel e Norvig,\n",
        "# a \"breadth first search\" teria uma complexidade temporal de b^d, onde b é o fator de ramificação e d a profundidade.\n",
        "# Já a \"depth first search\", tem complexidade temporal é de b^m, onde m é a profundidade máxima de qualquer nó (ou, do jeito que foi programado, a complexidade posta como limite).\n",
        "# Falando sobre complexidade espacial, a depth first search tem vantagem pois pode limpar um caminho de nós depois de ter atingido seu limite,\n",
        "# enquanto BFS teria que guardar todos os nós ao mesmo tempo até uma solução ser encontrada.\n",
        "\n",
        "# Como, novamente, diz o livro, estes tipo de busca não são adequadas para problemas mais complexos, com complexidade exponencial por exemplo,\n",
        "# visto que podem chegar a precisar de petabytes de memória para terminar.\n",
        "# Como o problema dos blocos deslizantes é simples, eles podem ser utilizados com relativo sucesso,\n",
        "# em especial o BFS já que consegue achar a solução ótima: ele sempre encontra a solução mais rasa, e em problemas como esse em que\n",
        "# todas ações tem o mesmo custo, a solução mais rasa é a solução ótima."
      ]
    }
  ],
  "metadata": {
    "colab": {
      "provenance": [],
      "include_colab_link": true
    },
    "kernelspec": {
      "display_name": "Python 3",
      "name": "python3"
    },
    "language_info": {
      "name": "python"
    }
  },
  "nbformat": 4,
  "nbformat_minor": 0
}