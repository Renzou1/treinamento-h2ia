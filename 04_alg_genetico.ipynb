{
  "nbformat": 4,
  "nbformat_minor": 0,
  "metadata": {
    "colab": {
      "provenance": [],
      "include_colab_link": true
    },
    "kernelspec": {
      "name": "python3",
      "display_name": "Python 3"
    },
    "language_info": {
      "name": "python"
    }
  },
  "cells": [
    {
      "cell_type": "markdown",
      "metadata": {
        "id": "view-in-github",
        "colab_type": "text"
      },
      "source": [
        "<a href=\"https://colab.research.google.com/github/Renzou1/treinamento-h2ia/blob/main/04_alg_genetico.ipynb\" target=\"_parent\"><img src=\"https://colab.research.google.com/assets/colab-badge.svg\" alt=\"Open In Colab\"/></a>"
      ]
    },
    {
      "cell_type": "markdown",
      "source": [
        "# Problema da mochila usando Busca Tabu\n",
        "![image.png](data:image/png;base64,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)"
      ],
      "metadata": {
        "id": "6f5treeJDpc4"
      }
    },
    {
      "cell_type": "code",
      "source": [
        "import numpy as np\n",
        "import random"
      ],
      "metadata": {
        "id": "h39DOM2d8h25"
      },
      "execution_count": 80,
      "outputs": []
    },
    {
      "cell_type": "code",
      "source": [
        "def flip(list, index):\n",
        "  if(list[index] == 0):\n",
        "    list[index] = 1\n",
        "  else:\n",
        "    list[index] = 0"
      ],
      "metadata": {
        "id": "jBlcx5O74KLa"
      },
      "execution_count": 81,
      "outputs": []
    },
    {
      "cell_type": "code",
      "source": [
        "size = 15\n",
        "max_weight = 275\n",
        "id = np.arange(1, size)\n",
        "weights = np.array([63, 21, 2, 32, 13, 80, 19, 37, 56, 41, 14, 8, 32, 42, 7])\n",
        "values = np.array([13, 2, 20, 10, 7, 14, 7, 2, 2, 4, 16, 17, 17, 3 ,21])\n",
        "\n",
        "class Cromossome:\n",
        "  def __init__(self, genes):\n",
        "    self.genes = genes\n",
        "    self.npgenes = np.array(genes)\n",
        "    self.fitness = self.calculateFitness()\n",
        "    self.weight = self.calculateWeight()\n",
        "    self.length = len(genes)\n",
        "\n",
        "  def calculateWeight(self):\n",
        "    sum = 0\n",
        "    for item in np.arange(1, len(self.genes)):\n",
        "       sum = sum + self.genes[item] * weights[item]\n",
        "    return sum\n",
        "\n",
        "  def calculateFitness(self):\n",
        "    if(self.calculateWeight() > 275):\n",
        "      return 0\n",
        "    sum = 0\n",
        "    for item in np.arange(1, len(self.genes)):\n",
        "     sum = sum + self.genes[item] * values[item]\n",
        "    return sum\n"
      ],
      "metadata": {
        "id": "fOJMs_hN40hU"
      },
      "execution_count": 161,
      "outputs": []
    },
    {
      "cell_type": "code",
      "source": [
        "def create_population(size):\n",
        "  population = []\n",
        "  for i in range(size):\n",
        "    genes = []\n",
        "    for k in range(15):\n",
        "      genes.append(random.randint(0,1))\n",
        "    population.append(Cromossome(genes))\n",
        "\n",
        "  return population"
      ],
      "metadata": {
        "id": "NQ2xdCMU5OV6"
      },
      "execution_count": 92,
      "outputs": []
    },
    {
      "cell_type": "code",
      "source": [
        "def crossover(crom1, crom2):\n",
        "  x = random.randint(1,crom1.length - 1)\n",
        "\n",
        "  genes3 = np.concatenate((crom1.npgenes[:x], crom2.npgenes[x:]))\n",
        "  y = random.randint(0,200)\n",
        "  if y == 1:\n",
        "    flip(genes3, random.randint(0, crom1.length - 1))\n",
        "  genes4 = np.concatenate((crom2.npgenes[:x], crom1.npgenes[x:]))\n",
        "  if y == 2:\n",
        "    flip(genes4, random.randint(0, crom1.length - 1))\n",
        "\n",
        "  crom3 = Cromossome(genes3)\n",
        "  crom4 = Cromossome(genes4)\n",
        "\n",
        "  return crom3, crom4"
      ],
      "metadata": {
        "id": "AkKr6X5y8gbT"
      },
      "execution_count": 195,
      "outputs": []
    },
    {
      "cell_type": "code",
      "source": [
        "def reproduction(population, popSize):\n",
        "  half = (popSize)//2\n",
        "  parents = population[:half]\n",
        "  newPopulation = []\n",
        "\n",
        "  for i in range(half):\n",
        "    father = random.randint(0, half - 1)\n",
        "    mother = random.randint(0, half - 1)\n",
        "    child1, child2 = crossover(parents[father], parents[mother])\n",
        "    newPopulation.append(child1) #children in later half, dont get picked\n",
        "    newPopulation.append(child2)\n",
        "\n",
        "  return newPopulation"
      ],
      "metadata": {
        "id": "ZdANjCZt7yVD"
      },
      "execution_count": 167,
      "outputs": []
    },
    {
      "cell_type": "code",
      "execution_count": 205,
      "metadata": {
        "id": "LOFNdbOYpDag",
        "colab": {
          "base_uri": "https://localhost:8080/"
        },
        "outputId": "8ab063d9-3116-4e3b-cd6b-643c575dd3b1"
      },
      "outputs": [
        {
          "output_type": "stream",
          "name": "stdout",
          "text": [
            "best solution: [1 0 1 1 1 1 0 1 0 1 1 1 1 0 1]\n",
            "best fitness: 128\n",
            "best iteration: 133\n",
            "final weight: 266\n"
          ]
        }
      ],
      "source": [
        "N = 500\n",
        "\n",
        "def evolution(N, iterations=2000):\n",
        "\n",
        "  population = create_population(N)\n",
        "  population.sort(key=lambda x: x.fitness, reverse=True)\n",
        "\n",
        "  iterations = 0\n",
        "  bestIteration = 0\n",
        "  bestSolution = population[0].genes\n",
        "  finalWeight = population[0].weight\n",
        "  bestFitness = population[0].fitness\n",
        "\n",
        "  for x in range(N):\n",
        "    iterations = iterations + 1\n",
        "\n",
        "    population = reproduction(population, N)\n",
        "    if(population[0].fitness > bestFitness):\n",
        "      bestSolution = population[0].genes\n",
        "      finalWeight = population[0].weight\n",
        "      bestFitness = population[0].fitness\n",
        "      bestIteration = iterations\n",
        "\n",
        "  # implementar mutação, seleção e avaliação\n",
        "\n",
        "  print(\"best solution:\", bestSolution)\n",
        "  print(\"best fitness:\", bestFitness)\n",
        "  print(\"best iteration:\", bestIteration)\n",
        "  print(\"final weight:\", finalWeight)\n",
        "\n",
        "evolution(N)"
      ]
    }
  ]
}